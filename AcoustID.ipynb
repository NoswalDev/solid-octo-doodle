{
 "cells": [
  {
   "cell_type": "code",
   "execution_count": 47,
   "metadata": {},
   "outputs": [
    {
     "output_type": "stream",
     "name": "stdout",
     "text": "5772\n"
    }
   ],
   "source": [
    "#acoustID\n",
    "import acoustid as aid\n",
    "# import chromaprint as cp\n",
    "mp3dir = r'K:\\SpotifyMP3\\samples\\3 Lau - 01 - Falling.mp3'\n",
    "duration, fp_encoded = aid.fingerprint_file(path=mp3dir, force_fpcalc=True, maxlength='0')\n",
    "# fp, version = cp.decode_fingerprint(fp_encoded)\n",
    "print(len(fp_encoded))"
   ]
  },
  {
   "cell_type": "code",
   "execution_count": 32,
   "metadata": {},
   "outputs": [
    {
     "output_type": "stream",
     "name": "stdout",
     "text": "b'AQADtFGSJEuUSJEKkzx6CYdmZYFVtELP4_ALPUSqpvhxUCd-OEeOj4dmFUeb4fCg6_B1VM1xo7yMbzIuHQ98SO1hXkIvVAd5-MdJuExwjXC_4-PR_Qh9WGFx5xt-wX9wRQr8Hn52PHtQMshlXEyDh8LR-ERXHR9_NFkca4BebEfRZsQPsUaPIz8-GTl-NH_wHT-uJLh0rXggxg1R9iiT49GH9OiT4kQerMlxjQ-eo4fV5KAu_IH3QI-y4IdtdM2O56htPA_OEymJ0wf3F14iKU9QMsej45IS9EdzHGee4jny4C-O60N7WNFRDldiQ8_SFCemPEcfXAqeqMfxEod-4sd1Df3hyDna4szx42yO3h2a_dDD4bh39GgiLSK-48tx7Dve4wfj4fChG34OHEfx4jva9QK74xNNjBdC08el3DjbAD7e45mPH3ke4a0w5dbRg4NiSXnQ8Ee4vahe_EG_HMceHoF2ZDp-NMeTB9h9I0c7BV5R-3hr_EIz2dCa7fh83OjhHW03nDx-4tgvXHiKHoeOD5ZuHNSPozjag9wHK-vxI1pO1DxxJZmLHz2aHw9yHr_x1EnQM5GO7agO_lCcaC965IODfjn240ceMIeQ9nDRP9hzHJePyoLJ5CiP40fHJ0jXoT1eQ8dkG-kz9OBO4cV_TMc2NTny8Ggc4oL0smj4HLX44MJ1_BjRHN1z_Blm6IyCS0ZcxuCpCOiPRl6OI2ze4esKzRtyCs2Vo9eFoyQHy1GQS4f4o04YXNCiMkZ46ajUD67hVCjl483RMJJihGSGl4dHKceH72hsow9-fEcoV_hx80fj6Djao7Fx5siR7ILziHhSUYngpUZv_Dh6I9NuaD2nINc4_D_-Hb0Ffyp-fKoDZyOFy4S70USQ6JLw4x-uGyZ-NA9JfAqRH0mPh-jpwU6GHy7H4cU93KuAaBceldCsIc_xHz_6HR-POj2SHnkCKywubzhf7HqChFuN_CI-HE3-oM9R4doRPoc-HBdDohfSozyeS2iOcFlyPNBCDiV3_LgYaJl1hLiW4y6-9GBMNL9wHvkU6GNGZI6I8mjOHLmh57iOk8fV4xAfHs-hjzl6-EE_XFqMQst58FkuSF7RI33QcsF3hOQOLSf-Hcx7SE9meMwK7UYniUezB8-Ro3GNK8h_tFsOGXeJR0KPMHh3vAyF1CHeQ-vRrMczXDy0B1aMsDwuPCzOoTl65NsDPazwCmGjHg3yQGdO9Li05OhF6MsQpka3RXHwoE925OKJhGOIWkzxHG-CWuXQRFJwo2qkwT2JTjf-BR8dZOGRLJUUDrcSPDTYLHnRhB_8EP3xHM2Y4TWuI3wOfTguhkSPFOWPH30YIoyaGX-ghRzKZcdxxtCyH32Qa8ePLwwY82guXL6QJ4L-D7xihDl65sj54Tu0KD98olWDH43F4_gYCx8e2ELLxShESzoOfbXwIUdD4otRHtSzHPkzBy_05WDlIPeIS6xQHncmo4cdSsI5Iv_R_oJc3MUnFGHwH292pA_xJYfWoxlznLgP7YV3hBNzXMdDnENz9Mi3B3pYfBWD0Coa5Ax05iiPawlaiYc-hKmIboty_OjDHLmyEwknheiZ4gxO5eg1Ds2k4CIYSzWch-h0vDPOK0HYpISWyTnyHK92_GhGXIV9-ERIZjEO_SnxhbiN_vCV4IRVxjCJazk-wufxw4dtnDvs4A6PlAPPg1qRrRL8GPdxMtCzwtRx9ATzBM0PnUGjH18I8_gFH7ogPsYJu8GXoTn6HD50Daa0GOJx5ki5DMyXo0vhw96M78ilwQ5DHCVO_IeE5gFOiMdxWKLQ4yh8Hr3wTKgHE71HdBYOP4OO46Zh9DyK8_DB0XiM-3hyuOLx_vjxouoHfceJSD-e45h-nEdTlUFoEdqHHD9MBr103Nhj4UH9KkhHPhKmHufRB0_YYzLKHg32KCfeHYy1469w6DxO4MCB4zcO__hxxId3vMePB4-Owz_RHsd55EyA4z-0RbyKJ8zxG_6xo0cPNzYeQzd64MeXPLjQlMqD60IbJTiP97jYqOiLZj_ODXKOF034o6RU_Dh2BW-O3-BPFDd8-HhxQg9uHJ2OZwdfdFn44dOJiD9qGpfyFGeLovlxPDvy420i1E5VKDuqgxdmTUf7F_mGw_mD_eiPnAcN7UeOo9YxMw-O3Mflo50CRx3qQ6_xR2h2tLiOt6h3eCfaHvoIPIPyy_h0_Ojx44f84Thx3DgH5gedF-WP5_gRSZaIN8ej1MXR_Cjx8DjyU8HTNIF2SseU4wfrHHv0IjRl3Dn-YfvR7_jRxsgO8chF-AAhqCAiGAqYEMKYA8QzgBAChQGOagMQAIoYCIAhRFAANAEEAQcIoRopwBABwCqliDGKKKQQQIRYQ4S4BjlCGIcEIMSEgEQKAoEiFBBFiBEASIWUMpUgAj0CCCCnAGJICYSII4woAhVRRBEmrANACGAFBIZQwwQByiGEhCAgOUSAEkYogUwRRCFnEAOEBKAAcogAEQRA1FFFhHAOOCOIQ0Q4YgAiSBxCFTRiARAGM0gZo5BDQxBhkUACAJCEUIAIZKAgQBNCDCHCeOQIAgA6agQQQgsFCAJAKMJAQAQ4JAAgBhBAGEEEMIOQcEIQIggwwBkqFHMEIgCAIY0oZRhw1iglgQIAGCEMEBQKJ5gAQgAKABDaMCE8MUQ5w4BwzBKBhJDKGSUMEA4cACSBCAiBiBBMKEKBUkgJhAgAiAkAHAASKUQJMIABoZAQBBEjhAAEOWCEIEYIooBgyCFBEECMECIIEUQhoCBSSCtgDAMSCEEAEBQQI5QTBhhHjBCKEGCEcYBYBIRASBBnABEAMaEIUAgRY4lAAgAgBBEEGUGEM4IZRwUTjjoBBBCMEGAIMEAABgBiRBABECGCKASEcIgopBUwxiigGAIKUACEEUIAJowxhAighEASIAgEAEYRJZgSBhBnhAFAEICEIkgRgQAChDjAkDDIGCQMMoAJAYQjyjEhHDDKWeaEwIaZIZ0gwgnljGHOAEGMFERYK6AmDBCHCEKOGGIQAIxQhQAAAAhjgBPKmQsdsMIJTTZxBgwHHQWMswYUYIAIowBSwBlloEKEEDAAIE4wxYQwRBlkABfAMAUIMsJoQR0wyAFhjFICCUuINU5BUAAAwCHgBDFGAKyQIcoIILVBShIArADKEISMcYQSp4DZlhqCgADKIIsEItMQyoxAggAAAkDCAKkAAVAIcgA'\n"
    }
   ],
   "source": []
  }
 ],
 "metadata": {
  "language_info": {
   "codemirror_mode": {
    "name": "ipython",
    "version": 3
   },
   "file_extension": ".py",
   "mimetype": "text/x-python",
   "name": "python",
   "nbconvert_exporter": "python",
   "pygments_lexer": "ipython3",
   "version": "3.7.6-final"
  },
  "orig_nbformat": 2,
  "kernelspec": {
   "name": "python37664bitminmetiscondaed090fa7ed9e416881481bda443ecc9d",
   "display_name": "Python 3.7.6 64-bit ('minmetis': conda)"
  }
 },
 "nbformat": 4,
 "nbformat_minor": 2
}