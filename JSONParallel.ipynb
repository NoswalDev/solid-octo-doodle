{
 "cells": [
  {
   "cell_type": "code",
   "execution_count": 1,
   "metadata": {},
   "outputs": [],
   "source": [
    "#Json parallel\n",
    "#test train split set from lib\n",
    "    #save lib to file\n",
    "\n",
    "import pandas as pd\n",
    "import json\n",
    "import spotipy\n",
    "from spotipy.oauth2 import SpotifyClientCredentials\n",
    "import os"
   ]
  },
  {
   "cell_type": "code",
   "execution_count": 2,
   "metadata": {},
   "outputs": [],
   "source": [
    "#client\n",
    "import spotipy\n",
    "from spotipy.oauth2 import SpotifyClientCredentials\n",
    "import os\n",
    "\n",
    "def init_cred(cid):\n",
    "    '''client credentials flow. promtps for secret. returns sp object'''\n",
    "    secret = input(\"Give secret ID: \")\n",
    "    if secret:\n",
    "        os.environ['SPOTIPY_CLIENT_ID']= cid\n",
    "        os.environ['SPOTIPY_CLIENT_SECRET']= secret\n",
    "        client_credentials_manager = SpotifyClientCredentials()\n",
    "        return spotipy.Spotify(client_credentials_manager=client_credentials_manager)\n",
    "    else:\n",
    "        raise ValueError('Need a secret ID.')\n",
    "\n",
    "def searchID(sp, q):\n",
    "    data = sp.search(q, limit=1, offset=0, type='track')['tracks']['items']\n",
    "    if len(data) > 0:\n",
    "        return data[0]['id']\n",
    "    return ''"
   ]
  },
  {
   "cell_type": "code",
   "execution_count": 3,
   "metadata": {},
   "outputs": [],
   "source": [
    "sp = init_cred('73dfaea6d85240e8bf6e69b48e12339e')"
   ]
  },
  {
   "cell_type": "code",
   "execution_count": 4,
   "metadata": {},
   "outputs": [],
   "source": [
    "def jsonToData(fileName:str) -> dict:\n",
    "    ''' returns data for json as dict. '''\n",
    "    with open(fileName, encoding='utf-8') as f:\n",
    "        data = json.load(f)\n",
    "    return data\n",
    "\n",
    "lib_file = 'SpotifyData/YourLibrary.json'\n",
    "df_lib = pd.DataFrame.from_dict(jsonToData(lib_file)['tracks'])"
   ]
  },
  {
   "cell_type": "code",
   "execution_count": 5,
   "metadata": {},
   "outputs": [],
   "source": [
    "df_lib['q'] = df_lib['track'] + ' ' + df_lib['artist']\n",
    "df_lib['id'] = df_lib['q'].apply(lambda x: searchID(sp, x))\n",
    "df_lib.head()\n",
    "# df_lib.to_csv('df_lib.csv', header=True, index=False, encoding='UTF-8')"
   ]
  },
  {
   "cell_type": "code",
   "execution_count": 6,
   "metadata": {},
   "outputs": [
    {
     "output_type": "execute_result",
     "data": {
      "text/plain": "                 artist          album                     track  \\\n0  The Bloody Beetroots         Zoning                    Zoning   \n1              Breakbot   Still Waters                 In Return   \n2                 BANKS            III                    Stroke   \n3               Tourist  Run (Remixes)     Run (Lil Silva Remix)   \n4              Galantis      Gold Dust  Gold Dust - Loosid Remix   \n\n                                   q                      id  \n0        Zoning The Bloody Beetroots  00bOuKgzbRkOHmgCAL7ChZ  \n1                 In Return Breakbot  00oju5ddIM8KQDeZECbLBM  \n2                       Stroke BANKS  01a0H5HPeCMOktdRMygi3t  \n3      Run (Lil Silva Remix) Tourist  01DZVTmfspLFyAlzN1uZEX  \n4  Gold Dust - Loosid Remix Galantis  01frkRX4if1KlnIi4lnX29  ",
      "text/html": "<div>\n<style scoped>\n    .dataframe tbody tr th:only-of-type {\n        vertical-align: middle;\n    }\n\n    .dataframe tbody tr th {\n        vertical-align: top;\n    }\n\n    .dataframe thead th {\n        text-align: right;\n    }\n</style>\n<table border=\"1\" class=\"dataframe\">\n  <thead>\n    <tr style=\"text-align: right;\">\n      <th></th>\n      <th>artist</th>\n      <th>album</th>\n      <th>track</th>\n      <th>q</th>\n      <th>id</th>\n    </tr>\n  </thead>\n  <tbody>\n    <tr>\n      <th>0</th>\n      <td>The Bloody Beetroots</td>\n      <td>Zoning</td>\n      <td>Zoning</td>\n      <td>Zoning The Bloody Beetroots</td>\n      <td>00bOuKgzbRkOHmgCAL7ChZ</td>\n    </tr>\n    <tr>\n      <th>1</th>\n      <td>Breakbot</td>\n      <td>Still Waters</td>\n      <td>In Return</td>\n      <td>In Return Breakbot</td>\n      <td>00oju5ddIM8KQDeZECbLBM</td>\n    </tr>\n    <tr>\n      <th>2</th>\n      <td>BANKS</td>\n      <td>III</td>\n      <td>Stroke</td>\n      <td>Stroke BANKS</td>\n      <td>01a0H5HPeCMOktdRMygi3t</td>\n    </tr>\n    <tr>\n      <th>3</th>\n      <td>Tourist</td>\n      <td>Run (Remixes)</td>\n      <td>Run (Lil Silva Remix)</td>\n      <td>Run (Lil Silva Remix) Tourist</td>\n      <td>01DZVTmfspLFyAlzN1uZEX</td>\n    </tr>\n    <tr>\n      <th>4</th>\n      <td>Galantis</td>\n      <td>Gold Dust</td>\n      <td>Gold Dust - Loosid Remix</td>\n      <td>Gold Dust - Loosid Remix Galantis</td>\n      <td>01frkRX4if1KlnIi4lnX29</td>\n    </tr>\n  </tbody>\n</table>\n</div>"
     },
     "metadata": {},
     "execution_count": 6
    }
   ],
   "source": [
    "df_lib = pd.read_csv('df_lib.csv', sep=',', header=0, encoding='UTF-8')\n",
    "df_lib.head()"
   ]
  }
 ],
 "metadata": {
  "language_info": {
   "codemirror_mode": {
    "name": "ipython",
    "version": 3
   },
   "file_extension": ".py",
   "mimetype": "text/x-python",
   "name": "python",
   "nbconvert_exporter": "python",
   "pygments_lexer": "ipython3",
   "version": "3.7.6-final"
  },
  "orig_nbformat": 2,
  "kernelspec": {
   "name": "python37664bitminmetiscondaed090fa7ed9e416881481bda443ecc9d",
   "display_name": "Python 3.7.6 64-bit ('minmetis': conda)"
  }
 },
 "nbformat": 4,
 "nbformat_minor": 2
}