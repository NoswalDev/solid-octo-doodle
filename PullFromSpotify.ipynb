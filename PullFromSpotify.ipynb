{
 "cells": [
  {
   "cell_type": "code",
   "execution_count": null,
   "metadata": {},
   "outputs": [],
   "source": [
    "#Pulling From Spotify\n",
    "#Client ID: 73dfaea6d85240e8bf6e69b48e12339e"
   ]
  },
  {
   "cell_type": "code",
   "execution_count": 1,
   "metadata": {},
   "outputs": [],
   "source": [
    "import os\n",
    "import json\n",
    "import spotipy\n",
    "from spotipy.oauth2 import SpotifyClientCredentials\n",
    "import spotipy.util as util\n",
    "\n",
    "def init_auth(cid, username):\n",
    "    '''authorization workflow. prompts for secret. returns sp object if successful'''\n",
    "    os.environ['SPOTIPY_CLIENT_ID']= cid\n",
    "    os.environ['SPOTIPY_CLIENT_SECRET']= input(\"Give secret ID: \")\n",
    "    os.environ['SPOTIPY_REDIRECT_URI']='http://localhost:9999/callback'\n",
    "    scope = '''playlist-read-collaborative\n",
    "               playlist-modify-public\n",
    "               playlist-read-private\n",
    "               playlist-modify-private\n",
    "               user-library-modify\n",
    "               user-library-read'''\n",
    "    token = util.prompt_for_user_token(username, scope)\n",
    "    if token:\n",
    "        return spotipy.Spotify(auth=token)\n",
    "    else:\n",
    "        print(\"Can't get token for\", username)"
   ]
  },
  {
   "cell_type": "code",
   "execution_count": 2,
   "metadata": {
    "tags": [
     "outputPrepend",
     "outputPrepend",
     "outputPrepend",
     "outputPrepend",
     "outputPrepend",
     "outputPrepend",
     "outputPrepend",
     "outputPrepend",
     "outputPrepend",
     "outputPrepend",
     "outputPrepend",
     "outputPrepend",
     "outputPrepend",
     "outputPrepend",
     "outputPrepend",
     "outputPrepend",
     "outputPrepend",
     "outputPrepend",
     "outputPrepend",
     "outputPrepend",
     "outputPrepend"
    ]
   },
   "outputs": [],
   "source": [
    "import spotipy\n",
    "from spotipy.oauth2 import SpotifyClientCredentials\n",
    "import os\n",
    "\n",
    "def init_cred(cid):\n",
    "    '''client credentials flow. promtps for secret. returns sp object'''\n",
    "    secret = input(\"Give secret ID: \")\n",
    "    if secret:\n",
    "        os.environ['SPOTIPY_CLIENT_ID']= cid\n",
    "        os.environ['SPOTIPY_CLIENT_SECRET']= secret\n",
    "        client_credentials_manager = SpotifyClientCredentials()\n",
    "        return spotipy.Spotify(client_credentials_manager=client_credentials_manager)\n",
    "    else:\n",
    "        raise ValueError('Need a secret ID.')"
   ]
  },
  {
   "cell_type": "code",
   "execution_count": 2,
   "metadata": {},
   "outputs": [],
   "source": [
    "cid =\"73dfaea6d85240e8bf6e69b48e12339e\"\n",
    "username = \"lawsonho\"\n",
    "sp = init_auth(cid, username)"
   ]
  },
  {
   "cell_type": "code",
   "execution_count": 3,
   "metadata": {},
   "outputs": [],
   "source": [
    "cid =\"73dfaea6d85240e8bf6e69b48e12339e\"\n",
    "sp = init_cred(cid)"
   ]
  },
  {
   "cell_type": "code",
   "execution_count": 9,
   "metadata": {
    "tags": [
     "outputPrepend"
    ]
   },
   "outputs": [],
   "source": [
    "pl_id = 'spotify:playlist:1BOfnR9Nyd969vQqVXTgmT'\n",
    "a = sp.playlist(pl_id, fields=['tracks'])\n",
    "# print(json.dumps(a, indent=4))\n",
    "# text_file = open(\"Output.txt\", \"w\")\n",
    "# text_file.write(json.dumps(a, indent=4))\n",
    "# text_file.close()\n"
   ]
  },
  {
   "cell_type": "code",
   "execution_count": 4,
   "metadata": {},
   "outputs": [
    {
     "output_type": "execute_result",
     "data": {
      "text/plain": "[{'danceability': 0.526,\n  'energy': 0.918,\n  'key': 2,\n  'loudness': -3.363,\n  'mode': 0,\n  'speechiness': 0.0474,\n  'acousticness': 0.0146,\n  'instrumentalness': 1.31e-05,\n  'liveness': 0.237,\n  'valence': 0.0532,\n  'tempo': 139.953,\n  'type': 'audio_features',\n  'id': '3kqxcrsjK9rHh8jO0fb8HA',\n  'uri': 'spotify:track:3kqxcrsjK9rHh8jO0fb8HA',\n  'track_href': 'https://api.spotify.com/v1/tracks/3kqxcrsjK9rHh8jO0fb8HA',\n  'analysis_url': 'https://api.spotify.com/v1/audio-analysis/3kqxcrsjK9rHh8jO0fb8HA',\n  'duration_ms': 239483,\n  'time_signature': 4}]"
     },
     "metadata": {},
     "execution_count": 4
    }
   ],
   "source": [
    "trk = '3kqxcrsjK9rHh8jO0fb8HA'\n",
    "sp.audio_features(tracks=[trk])"
   ]
  },
  {
   "cell_type": "code",
   "execution_count": 6,
   "metadata": {},
   "outputs": [],
   "source": [
    "p = sp.audio_analysis(trk)"
   ]
  },
  {
   "cell_type": "code",
   "execution_count": null,
   "metadata": {
    "tags": [
     "outputPrepend"
    ]
   },
   "outputs": [],
   "source": [
    "print(list(a.keys()))\n",
    "b = a['tracks']['items'][0]\n",
    "print(list(b.keys()))"
   ]
  },
  {
   "cell_type": "code",
   "execution_count": null,
   "metadata": {
    "tags": [
     "outputPrepend"
    ]
   },
   "outputs": [],
   "source": [
    "needed = ['album',\n",
    "          'artists',\n",
    "          'duration_ms',\n",
    "          'external_ids',\n",
    "          'external_urls',\n",
    "          'href',\n",
    "          'id',\n",
    "          'name',\n",
    "          'popularity',\n",
    "          'uri'\n",
    "          ]\n",
    "# for i in needed:\n",
    "#     print(i)\n",
    "#     print(a['items'][0]['track'][i])\n",
    "print(a['items'][0]['track']['album']['name'])\n",
    "print(a['items'][0]['track']['album']['id'])\n",
    "print(a['items'][0]['track']['artists'][0]['name']) #need to loop to get all\n",
    "print(a['items'][0]['track']['duration_ms'])\n",
    "print(a['items'][0]['track']['id'])\n",
    "print(a['items'][0]['track']['name'])\n",
    "print(a['items'][0]['track']['popularity'])"
   ]
  },
  {
   "cell_type": "code",
   "execution_count": 11,
   "metadata": {},
   "outputs": [
    {
     "output_type": "execute_result",
     "data": {
      "text/plain": "dict_keys(['album', 'artists', 'available_markets', 'disc_number', 'duration_ms', 'explicit', 'external_ids', 'external_urls', 'href', 'id', 'is_local', 'name', 'popularity', 'preview_url', 'track_number', 'type', 'uri'])"
     },
     "metadata": {},
     "execution_count": 11
    }
   ],
   "source": [
    "a['tracks']['items'][0].keys()"
   ]
  },
  {
   "cell_type": "code",
   "execution_count": 13,
   "metadata": {
    "tags": [
     "outputPrepend",
     "outputPrepend",
     "outputPrepend",
     "outputPrepend",
     "outputPrepend",
     "outputPrepend",
     "outputPrepend",
     "outputPrepend",
     "outputPrepend",
     "outputPrepend",
     "outputPrepend",
     "outputPrepend",
     "outputPrepend",
     "outputPrepend",
     "outputPrepend",
     "outputPrepend",
     "outputPrepend",
     "outputPrepend",
     "outputPrepend",
     "outputPrepend",
     "outputPrepend",
     "outputPrepend",
     "outputPrepend"
    ]
   },
   "outputs": [
    {
     "output_type": "stream",
     "name": "stdout",
     "text": "1 spotify:playlist:1BOfnR9Nyd969vQqVXTgmT Archive\n"
    }
   ],
   "source": [
    "playlists = sp.user_playlists('lawsonho')\n",
    "while playlists:\n",
    "    for i, playlist in enumerate(playlists['items']):\n",
    "        print(\"%4d %s %s\" % (i + 1 + playlists['offset'], playlist['uri'],  playlist['name']))\n",
    "    if playlists['next']:\n",
    "        playlists = sp.next(playlists)\n",
    "    else:\n",
    "        playlists = None"
   ]
  },
  {
   "cell_type": "code",
   "execution_count": null,
   "metadata": {},
   "outputs": [],
   "source": [
    "'''myUse\n",
    "sp.current_user()\n",
    "sp.current_user_saved_tracks(limit=20, offset=0)\n",
    "sp.current_user_playlists(limit=50, offset=0)\n",
    "sp.playlist_tracks(playlist_id, fields=None, limit=100, offset=0, market=None, additional_types=('track', ))\n",
    "sp.current_user_recently_played(limit=50, after=None, before=None) #unix timestamp in milliseconds. Returns all items\n",
    "sp.current_user_top_artists(limit=20, offset=0, time_range='medium_term') #short_term, medium_term, long_term\n",
    "sp.current_user_top_tracks(limit=20, offset=0, time_range='medium_term')\n",
    "'''\n",
    "\n",
    "'''meta\n",
    "sp.album(album_id) #returns album given any id\n",
    "sp.album_tracks(album_id, limit=50, offset=0)\n",
    "sp.artist(artist_id)\n",
    "sp.artist_albums(artist_id, album_type=None, country=None, limit=20, offset=0)\n",
    "sp.playlist_tracks(playlist_id, fields=None, limit=100, offset=0, market=None, additional_types=('track', ))\n",
    "sp.playlist\n",
    "sp.search(str)\n",
    "'''\n",
    "\n",
    "'''analysis\n",
    "sp.audio_analysis(track_id)\n",
    "sp.audio_features(tracks=[track_id, track_id, etc.]) #max limit of 100 ids at a time\n",
    "'''\n",
    "\n",
    "'''verification\n",
    "sp.artist_related_artists(artist_id) #get similarity based on community listening history\n",
    "sp.artist_top_tracks(artist_id, country = 'US') #country as ISO3166-1 Alpha-2 country code\n",
    "'''"
   ]
  },
  {
   "cell_type": "code",
   "execution_count": null,
   "metadata": {},
   "outputs": [],
   "source": [
    "# shows acoustic features for tracks for the given artist\n",
    "\n",
    "from __future__ import print_function    # (at top of module)\n",
    "from spotipy.oauth2 import SpotifyClientCredentials\n",
    "import json\n",
    "import spotipy\n",
    "import time\n",
    "import sys\n",
    "\n",
    "client_credentials_manager = SpotifyClientCredentials()\n",
    "sp = spotipy.Spotify(client_credentials_manager=client_credentials_manager)\n",
    "sp.trace = False\n",
    "\n",
    "if len(sys.argv) > 1:\n",
    "    artist_name = ' '.join(sys.argv[1:])\n",
    "else:\n",
    "    artist_name = 'weezer'\n",
    "\n",
    "results = sp.search(q=artist_name, limit=50)\n",
    "tids = []\n",
    "for i, t in enumerate(results['tracks']['items']):\n",
    "    print(' ', i, t['name'])\n",
    "    tids.append(t['uri'])\n",
    "\n",
    "start = time.time()\n",
    "features = sp.audio_features(tids)\n",
    "delta = time.time() - start\n",
    "for feature in features:\n",
    "    print(json.dumps(feature, indent=4))\n",
    "    print()\n",
    "    analysis = sp._get(feature['analysis_url'])\n",
    "    print(json.dumps(analysis, indent=4))\n",
    "    print()\n",
    "print(\"features retrieved in %.2f seconds\" % (delta,))"
   ]
  },
  {
   "cell_type": "code",
   "execution_count": null,
   "metadata": {},
   "outputs": [],
   "source": [
    "# shows audio analysis for the given track\n",
    "\n",
    "from __future__ import print_function    # (at top of module)\n",
    "from spotipy.oauth2 import SpotifyClientCredentials\n",
    "import json\n",
    "import spotipy\n",
    "import time\n",
    "import sys\n",
    "\n",
    "client_credentials_manager = SpotifyClientCredentials()\n",
    "sp = spotipy.Spotify(client_credentials_manager=client_credentials_manager)\n",
    "\n",
    "if len(sys.argv) > 1:\n",
    "    tid = sys.argv[1]\n",
    "else:\n",
    "    tid = 'spotify:track:4TTV7EcfroSLWzXRY6gLv6'\n",
    "\n",
    "start = time.time()\n",
    "analysis = sp.audio_analysis(tid)\n",
    "delta = time.time() - start\n",
    "print(json.dumps(analysis, indent=4))\n",
    "print(\"analysis retrieved in %.2f seconds\" % (delta,))"
   ]
  }
 ],
 "metadata": {
  "language_info": {
   "codemirror_mode": {
    "name": "ipython",
    "version": 3
   },
   "file_extension": ".py",
   "mimetype": "text/x-python",
   "name": "python",
   "nbconvert_exporter": "python",
   "pygments_lexer": "ipython3",
   "version": "3.7.7-final"
  },
  "orig_nbformat": 2,
  "kernelspec": {
   "name": "python37464bitmetisconda417d56bbf2c1458e8cb200bd7dd6c99d",
   "display_name": "Python 3.7.4 64-bit ('metis': conda)"
  }
 },
 "nbformat": 4,
 "nbformat_minor": 2
}