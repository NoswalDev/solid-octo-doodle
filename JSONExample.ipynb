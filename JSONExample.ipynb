{
 "cells": [
  {
   "cell_type": "code",
   "execution_count": null,
   "metadata": {},
   "outputs": [],
   "source": [
    "#JSON Example\n",
    "import json\n",
    "import pandas as pd\n",
    "import matplotlib.pyplot as plt\n",
    "import seaborn as sb\n",
    "\n",
    "with open('top50_data.json') as f:\n",
    "  data = json.load(f)"
   ]
  },
  {
   "cell_type": "code",
   "execution_count": null,
   "metadata": {},
   "outputs": [],
   "source": [
    "list_of_results = data[0][\"items\"] #set\n",
    "list_of_artist_names = []\n",
    "list_of_artist_uri = []\n",
    "list_of_song_names = []\n",
    "list_of_song_uri = []\n",
    "list_of_durations_ms = []\n",
    "list_of_explicit = []\n",
    "list_of_albums = []\n",
    "list_of_popularity = []\n",
    "\n",
    "for result in list_of_results:\n",
    "    result[\"album\"]\n",
    "    this_artists_name = result[\"artists\"][0][\"name\"]\n",
    "    list_of_artist_names.append(this_artists_name)\n",
    "    this_artists_uri = result[\"artists\"][0][\"uri\"]\n",
    "    list_of_artist_uri.append(this_artists_uri)\n",
    "    list_of_songs = result[\"name\"]\n",
    "    list_of_song_names.append(list_of_songs)\n",
    "    song_uri = result[\"uri\"]\n",
    "    list_of_song_uri.append(song_uri)\n",
    "    list_of_duration = result[\"duration_ms\"]\n",
    "    list_of_durations_ms.append(list_of_duration)\n",
    "    song_explicit = result[\"explicit\"]\n",
    "    list_of_explicit.append(song_explicit)\n",
    "    this_album = result[\"album\"][\"name\"]\n",
    "    list_of_albums.append(this_album)\n",
    "    song_popularity = result[\"popularity\"]\n",
    "    list_of_popularity.append(song_popularity)"
   ]
  },
  {
   "cell_type": "code",
   "execution_count": null,
   "metadata": {},
   "outputs": [],
   "source": [
    "all_songs = pd.DataFrame(\n",
    "    {'artist': list_of_artist_names,\n",
    "     'artist_uri': list_of_artist_uri,\n",
    "     'song': list_of_song_names,\n",
    "     'song_uri': list_of_song_uri,\n",
    "     'duration_ms': list_of_durations_ms,\n",
    "     'explicit': list_of_explicit,\n",
    "     'album': list_of_albums,\n",
    "     'popularity': list_of_popularity\n",
    "     \n",
    "    })\n",
    "\n",
    "all_songs_saved = all_songs.to_csv('top50_songs.csv')"
   ]
  },
  {
   "cell_type": "code",
   "execution_count": null,
   "metadata": {},
   "outputs": [],
   "source": [
    "descending_order = top50['artist'].value_counts().sort_values(ascending=False).index\n",
    "ax = sb.countplot(y = top50['artist'], order=descending_order)\n",
    "\n",
    "sb.despine(fig=None, ax=None, top=True, right=True, left=False, trim=False)\n",
    "sb.set(rc={'figure.figsize':(6,7.2)})\n",
    "\n",
    "ax.set_ylabel('')    \n",
    "ax.set_xlabel('')\n",
    "ax.set_title('Songs per Artist in Top 50', fontsize=16, fontweight='heavy')\n",
    "sb.set(font_scale = 1.4)\n",
    "ax.axes.get_xaxis().set_visible(False)\n",
    "ax.set_frame_on(False)\n",
    "\n",
    "y = top50['artist'].value_counts()\n",
    "for i, v in enumerate(y):\n",
    "    ax.text(v + 0.2, i + .16, str(v), color='black', fontweight='light', fontsize=14)\n",
    "    \n",
    "plt.savefig('top50_songs_per_artist.jpg', bbox_inches=\"tight\")"
   ]
  },
  {
   "cell_type": "code",
   "execution_count": null,
   "metadata": {},
   "outputs": [],
   "source": [
    "popularity = top50['popularity']\n",
    "artists = top50['artist']\n",
    "\n",
    "plt.figure(figsize=(10,6))\n",
    "\n",
    "ax = sb.boxplot(x=popularity, y=artists, data=top50)\n",
    "plt.xlim(20,90)\n",
    "plt.xlabel('Popularity (0-100)')\n",
    "plt.ylabel('')\n",
    "plt.title('Song Popularity by Artist', fontweight='bold', fontsize=18)\n",
    "plt.savefig('top50_artist_popularity.jpg', bbox_inches=\"tight\")"
   ]
  }
 ],
 "metadata": {
  "language_info": {
   "codemirror_mode": {
    "name": "ipython",
    "version": 3
   },
   "file_extension": ".py",
   "mimetype": "text/x-python",
   "name": "python",
   "nbconvert_exporter": "python",
   "pygments_lexer": "ipython3",
   "version": 3
  },
  "orig_nbformat": 2
 },
 "nbformat": 4,
 "nbformat_minor": 2
}